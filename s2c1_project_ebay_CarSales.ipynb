{
 "cells": [
  {
   "cell_type": "markdown",
   "metadata": {},
   "source": [
    "# Project_1_Exploring Ebay Car Sales Data\n",
    "the data set a classifieds section of the German eBay website. It has 50,000 data points and 20columns.\n",
    "\n",
    "#### The data dictionary provided with data is as follows:\n",
    "\n",
    "- dateCrawled - When this ad was first crawled. All field-values are taken from this date.\n",
    "- name - Name of the car.\n",
    "- seller - Whether the seller is private or a dealer.\n",
    "- offerType - The type of listing\n",
    "- price - The price on the ad to sell the car.\n",
    "- abtest - Whether the listing is included in an A/B test.\n",
    "- vehicleType - The vehicle Type.\n",
    "- yearOfRegistration - The year in which the car was first registered.\n",
    "- gearbox - The transmission type.\n",
    "- powerPS - The power of the car in PS.\n",
    "- model - The car model name.\n",
    "- kilometer - How many kilometers the car has driven.\n",
    "- monthOfRegistration - The month in which the car was first registered.\n",
    "- fuelType - What type of fuel the car uses.\n",
    "- brand - The brand of the car.\n",
    "- notRepairedDamage - If the car has a damage which is not yet repaired.\n",
    "- dateCreated - The date on which the eBay listing was created.\n",
    "- nrOfPictures - The number of pictures in the ad.\n",
    "- postalCode - The postal code for the location of the vehicle.\n",
    "- lastSeenOnline - When the crawler saw this ad last online."
   ]
  },
  {
   "cell_type": "code",
   "execution_count": null,
   "metadata": {
    "ExecuteTime": {
     "end_time": "2020-04-13T10:05:15.102637Z",
     "start_time": "2020-04-13T10:05:14.507797Z"
    }
   },
   "outputs": [],
   "source": [
    "import pandas as pd\n",
    "import numpy as np\n",
    "autos = pd.read_csv('autos.csv',encoding='windows-1252')"
   ]
  },
  {
   "cell_type": "code",
   "execution_count": null,
   "metadata": {
    "ExecuteTime": {
     "end_time": "2020-04-13T10:05:15.157831Z",
     "start_time": "2020-04-13T10:05:15.104629Z"
    },
    "scrolled": true
   },
   "outputs": [],
   "source": [
    "autos.info()\n",
    "autos.head()\n",
    "autos.isnull().sum()\n",
    "print(autos.columns)"
   ]
  },
  {
   "cell_type": "markdown",
   "metadata": {},
   "source": [
    "The column names use camelcase(camelCase) instead of Python's preferred snakecase(snake_case).\n",
    "Thus, the following steps cleans the column names"
   ]
  },
  {
   "cell_type": "code",
   "execution_count": null,
   "metadata": {
    "ExecuteTime": {
     "end_time": "2020-04-13T10:05:15.318485Z",
     "start_time": "2020-04-13T10:05:15.158833Z"
    },
    "scrolled": false
   },
   "outputs": [],
   "source": [
    "autos.columns = autos.columns.str.replace('PS','_ps')\n",
    "autos.columns = autos.columns.str.replace('C','_c')\n",
    "autos.columns = autos.columns.str.replace('T','_t')\n",
    "autos.columns = autos.columns.str.replace('O','_o')\n",
    "autos.columns = autos.columns.str.replace('R','_r')\n",
    "autos.columns = autos.columns.str.replace('D','_d')\n",
    "autos.columns = autos.columns.str.replace('P','_p')\n",
    "autos.columns = autos.columns.str.replace('S','_s')\n",
    "print(autos.columns)\n",
    "autos.describe(include='all')"
   ]
  },
  {
   "cell_type": "code",
   "execution_count": null,
   "metadata": {
    "ExecuteTime": {
     "end_time": "2020-04-13T10:05:15.423482Z",
     "start_time": "2020-04-13T10:05:15.320486Z"
    }
   },
   "outputs": [],
   "source": [
    "autos.price = autos.price.str.replace('$','').str.replace(',','')\n",
    "autos.odometer = autos.odometer.str.replace('km','').str.replace(',','')\n",
    "autos[['price','odometer']] = autos[['price','odometer']].astype(int)\n",
    "autos[['price','odometer']].head()\n",
    "autos.rename({'odometer':'odometer_km'},inplace=True,axis=1)\n",
    "autos.columns"
   ]
  },
  {
   "cell_type": "code",
   "execution_count": null,
   "metadata": {
    "ExecuteTime": {
     "end_time": "2020-04-13T10:05:15.464649Z",
     "start_time": "2020-04-13T10:05:15.424482Z"
    }
   },
   "outputs": [],
   "source": [
    "autos.price.unique().shape #2357 uinque values\n",
    "autos['price'].describe() #min is 0, max is 10^8\n",
    "autos.price.value_counts().sort_index(ascending=1).head(50)\n",
    "autos = autos[autos.price.between(100,350001)]\n",
    "autos.info()"
   ]
  },
  {
   "cell_type": "code",
   "execution_count": null,
   "metadata": {
    "ExecuteTime": {
     "end_time": "2020-04-13T10:05:15.475266Z",
     "start_time": "2020-04-13T10:05:15.466315Z"
    }
   },
   "outputs": [],
   "source": [
    "autos.odometer_km.unique().shape #13 unique values\n",
    "autos.odometer_km.value_counts().sort_index() #seems no outliers\n",
    "autos.odometer_km.describe() #min 5k, max 150k"
   ]
  },
  {
   "cell_type": "code",
   "execution_count": null,
   "metadata": {
    "ExecuteTime": {
     "end_time": "2020-04-13T10:05:15.485771Z",
     "start_time": "2020-04-13T10:05:15.475266Z"
    },
    "scrolled": true
   },
   "outputs": [],
   "source": [
    "autos[['date_crawled','last_seen','date_created','month_of_registration','year_of_registration']].head()\n",
    "\n",
    "#first 3 cols contains strings, the rest 2 contain int"
   ]
  },
  {
   "cell_type": "code",
   "execution_count": null,
   "metadata": {
    "ExecuteTime": {
     "end_time": "2020-04-13T10:05:15.545088Z",
     "start_time": "2020-04-13T10:05:15.487773Z"
    }
   },
   "outputs": [],
   "source": [
    "# the day: first 10 strings\n",
    "autos['date_crawled'].str[:10].value_counts(normalize=1,dropna=0).sort_index(ascending=0)\n",
    "autos['last_seen'].str[:10].value_counts(normalize=1,dropna=0).sort_index(ascending=0)\n",
    "autos['date_created'].str[:10].value_counts(normalize=1,dropna=0).sort_index(ascending=0)"
   ]
  },
  {
   "cell_type": "code",
   "execution_count": null,
   "metadata": {
    "ExecuteTime": {
     "end_time": "2020-04-13T10:05:15.553098Z",
     "start_time": "2020-04-13T10:05:15.546098Z"
    }
   },
   "outputs": [],
   "source": [
    "autos.year_of_registration.describe() #min is 1000, max is 9999, must have outliers"
   ]
  },
  {
   "cell_type": "code",
   "execution_count": null,
   "metadata": {
    "ExecuteTime": {
     "end_time": "2020-04-13T10:05:15.569924Z",
     "start_time": "2020-04-13T10:05:15.554099Z"
    },
    "scrolled": true
   },
   "outputs": [],
   "source": [
    "autos = autos[autos.year_of_registration.between(1900,2020)]# there are 48205 datapoints w/ registration year after 1900.\n",
    "autos.year_of_registration.value_counts(normalize=1).sort_index() "
   ]
  },
  {
   "cell_type": "markdown",
   "metadata": {},
   "source": [
    "#### aggregation & analysis"
   ]
  },
  {
   "cell_type": "code",
   "execution_count": null,
   "metadata": {
    "ExecuteTime": {
     "end_time": "2020-04-13T10:08:49.590690Z",
     "start_time": "2020-04-13T10:08:49.552834Z"
    }
   },
   "outputs": [],
   "source": [
    "brands = autos['brand'].value_counts(normalize=True).head(6).index  #\n",
    "mean_price = {}\n",
    "for c in brands:\n",
    "    select_rows = autos[autos['brand'] == c]\n",
    "    mean = select_rows['price'].mean()\n",
    "    mean_price[c] = mean\n",
    "mean_price"
   ]
  },
  {
   "cell_type": "code",
   "execution_count": null,
   "metadata": {
    "ExecuteTime": {
     "end_time": "2020-04-13T10:09:21.410328Z",
     "start_time": "2020-04-13T10:09:21.376912Z"
    },
    "scrolled": true
   },
   "outputs": [],
   "source": [
    "mean_mileage = {}\n",
    "for c in brands:\n",
    "    select_rows = autos[autos['brand'] == c]\n",
    "    mean = select_rows['odometer_km'].mean()\n",
    "    mean_mileage[c] = mean\n",
    "mean_mileage"
   ]
  },
  {
   "cell_type": "code",
   "execution_count": null,
   "metadata": {
    "ExecuteTime": {
     "end_time": "2020-04-13T10:09:23.214038Z",
     "start_time": "2020-04-13T10:09:23.204756Z"
    }
   },
   "outputs": [],
   "source": [
    "mean_price_series = pd.Series(mean_price)\n",
    "print(mean_price_series)\n",
    "mean_mileage_series = pd.Series(mean_mileage)\n",
    "df = pd.DataFrame(mean_price_series,columns=['mean_price'])\n",
    "print(df)\n",
    "df['mean_mileage'] = mean_mileage_series\n",
    "df"
   ]
  }
 ],
 "metadata": {
  "kernelspec": {
   "display_name": "Python 3",
   "language": "python",
   "name": "python3"
  },
  "language_info": {
   "codemirror_mode": {
    "name": "ipython",
    "version": 3
   },
   "file_extension": ".py",
   "mimetype": "text/x-python",
   "name": "python",
   "nbconvert_exporter": "python",
   "pygments_lexer": "ipython3",
   "version": "3.7.4"
  },
  "toc": {
   "base_numbering": 1,
   "nav_menu": {},
   "number_sections": true,
   "sideBar": true,
   "skip_h1_title": false,
   "title_cell": "Table of Contents",
   "title_sidebar": "Contents",
   "toc_cell": false,
   "toc_position": {},
   "toc_section_display": true,
   "toc_window_display": false
  },
  "varInspector": {
   "cols": {
    "lenName": 16,
    "lenType": 16,
    "lenVar": 40
   },
   "kernels_config": {
    "python": {
     "delete_cmd_postfix": "",
     "delete_cmd_prefix": "del ",
     "library": "var_list.py",
     "varRefreshCmd": "print(var_dic_list())"
    },
    "r": {
     "delete_cmd_postfix": ") ",
     "delete_cmd_prefix": "rm(",
     "library": "var_list.r",
     "varRefreshCmd": "cat(var_dic_list()) "
    }
   },
   "types_to_exclude": [
    "module",
    "function",
    "builtin_function_or_method",
    "instance",
    "_Feature"
   ],
   "window_display": false
  }
 },
 "nbformat": 4,
 "nbformat_minor": 2
}
